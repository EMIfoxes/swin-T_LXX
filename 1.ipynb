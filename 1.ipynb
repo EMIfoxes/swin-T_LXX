{
 "cells": [
  {
   "cell_type": "code",
   "execution_count": 4,
   "metadata": {},
   "outputs": [],
   "source": [
    "import torch\n",
    "from torch.utils.data import Dataset\n",
    "import pandas as pd\n",
    "import hdf5storage\n",
    "\n",
    "class CustomCWRUDataset(Dataset):\n",
    "    def __init__(self, data_pd, transform=None):\n",
    "        self.data_pd = data_pd\n",
    "        self.transform = transform\n",
    "\n",
    "    def __len__(self):\n",
    "        return len(self.data_pd)\n",
    "\n",
    "    def __getitem__(self, idx):\n",
    "        file_path = self.data_pd.iloc[idx]['data']\n",
    "        label = int(self.data_pd.iloc[idx]['label'])\n",
    "        data = hdf5storage.loadmat(file_path)['single_data']#提取数据并转置\n",
    "        data = torch.tensor(data).float().reshape(-1)\n",
    "        if self.transform:\n",
    "            data = self.transform(data)\n",
    "        return data, label"
   ]
  }
 ],
 "metadata": {
  "kernelspec": {
   "display_name": "DL",
   "language": "python",
   "name": "python3"
  },
  "language_info": {
   "codemirror_mode": {
    "name": "ipython",
    "version": 3
   },
   "file_extension": ".py",
   "mimetype": "text/x-python",
   "name": "python",
   "nbconvert_exporter": "python",
   "pygments_lexer": "ipython3",
   "version": "3.9.18"
  }
 },
 "nbformat": 4,
 "nbformat_minor": 2
}
